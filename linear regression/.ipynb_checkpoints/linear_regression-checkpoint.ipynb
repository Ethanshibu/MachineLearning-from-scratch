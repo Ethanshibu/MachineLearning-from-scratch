{
 "cells": [
  {
   "cell_type": "code",
   "execution_count": 4,
   "id": "71377109-2c40-47d4-a14f-31402c7fb48a",
   "metadata": {},
   "outputs": [],
   "source": [
    "import pandas as pd\n",
    "import numpy as np\n",
    "import matplotlib.pyplot as plt"
   ]
  },
  {
   "cell_type": "code",
   "execution_count": 9,
   "id": "a5bbc79d-8545-4309-85bd-b3de1f9d5def",
   "metadata": {},
   "outputs": [
    {
     "data": {
      "text/html": [
       "<div>\n",
       "<style scoped>\n",
       "    .dataframe tbody tr th:only-of-type {\n",
       "        vertical-align: middle;\n",
       "    }\n",
       "\n",
       "    .dataframe tbody tr th {\n",
       "        vertical-align: top;\n",
       "    }\n",
       "\n",
       "    .dataframe thead th {\n",
       "        text-align: right;\n",
       "    }\n",
       "</style>\n",
       "<table border=\"1\" class=\"dataframe\">\n",
       "  <thead>\n",
       "    <tr style=\"text-align: right;\">\n",
       "      <th></th>\n",
       "      <th>Hours</th>\n",
       "      <th>Score</th>\n",
       "    </tr>\n",
       "  </thead>\n",
       "  <tbody>\n",
       "    <tr>\n",
       "      <th>0</th>\n",
       "      <td>1.5</td>\n",
       "      <td>55</td>\n",
       "    </tr>\n",
       "    <tr>\n",
       "      <th>1</th>\n",
       "      <td>3.0</td>\n",
       "      <td>65</td>\n",
       "    </tr>\n",
       "    <tr>\n",
       "      <th>2</th>\n",
       "      <td>4.5</td>\n",
       "      <td>75</td>\n",
       "    </tr>\n",
       "    <tr>\n",
       "      <th>3</th>\n",
       "      <td>2.0</td>\n",
       "      <td>60</td>\n",
       "    </tr>\n",
       "    <tr>\n",
       "      <th>4</th>\n",
       "      <td>5.0</td>\n",
       "      <td>80</td>\n",
       "    </tr>\n",
       "    <tr>\n",
       "      <th>5</th>\n",
       "      <td>3.5</td>\n",
       "      <td>68</td>\n",
       "    </tr>\n",
       "    <tr>\n",
       "      <th>6</th>\n",
       "      <td>6.0</td>\n",
       "      <td>85</td>\n",
       "    </tr>\n",
       "    <tr>\n",
       "      <th>7</th>\n",
       "      <td>7.0</td>\n",
       "      <td>90</td>\n",
       "    </tr>\n",
       "    <tr>\n",
       "      <th>8</th>\n",
       "      <td>2.5</td>\n",
       "      <td>63</td>\n",
       "    </tr>\n",
       "    <tr>\n",
       "      <th>9</th>\n",
       "      <td>4.0</td>\n",
       "      <td>72</td>\n",
       "    </tr>\n",
       "    <tr>\n",
       "      <th>10</th>\n",
       "      <td>5.5</td>\n",
       "      <td>78</td>\n",
       "    </tr>\n",
       "    <tr>\n",
       "      <th>11</th>\n",
       "      <td>1.0</td>\n",
       "      <td>50</td>\n",
       "    </tr>\n",
       "    <tr>\n",
       "      <th>12</th>\n",
       "      <td>6.5</td>\n",
       "      <td>88</td>\n",
       "    </tr>\n",
       "    <tr>\n",
       "      <th>13</th>\n",
       "      <td>3.2</td>\n",
       "      <td>66</td>\n",
       "    </tr>\n",
       "    <tr>\n",
       "      <th>14</th>\n",
       "      <td>7.5</td>\n",
       "      <td>93</td>\n",
       "    </tr>\n",
       "    <tr>\n",
       "      <th>15</th>\n",
       "      <td>8.0</td>\n",
       "      <td>95</td>\n",
       "    </tr>\n",
       "    <tr>\n",
       "      <th>16</th>\n",
       "      <td>2.8</td>\n",
       "      <td>62</td>\n",
       "    </tr>\n",
       "    <tr>\n",
       "      <th>17</th>\n",
       "      <td>4.8</td>\n",
       "      <td>76</td>\n",
       "    </tr>\n",
       "    <tr>\n",
       "      <th>18</th>\n",
       "      <td>5.2</td>\n",
       "      <td>79</td>\n",
       "    </tr>\n",
       "    <tr>\n",
       "      <th>19</th>\n",
       "      <td>6.8</td>\n",
       "      <td>87</td>\n",
       "    </tr>\n",
       "  </tbody>\n",
       "</table>\n",
       "</div>"
      ],
      "text/plain": [
       "    Hours  Score\n",
       "0     1.5     55\n",
       "1     3.0     65\n",
       "2     4.5     75\n",
       "3     2.0     60\n",
       "4     5.0     80\n",
       "5     3.5     68\n",
       "6     6.0     85\n",
       "7     7.0     90\n",
       "8     2.5     63\n",
       "9     4.0     72\n",
       "10    5.5     78\n",
       "11    1.0     50\n",
       "12    6.5     88\n",
       "13    3.2     66\n",
       "14    7.5     93\n",
       "15    8.0     95\n",
       "16    2.8     62\n",
       "17    4.8     76\n",
       "18    5.2     79\n",
       "19    6.8     87"
      ]
     },
     "execution_count": 9,
     "metadata": {},
     "output_type": "execute_result"
    }
   ],
   "source": [
    "df = pd.read_csv(\"data.csv\")\n",
    "df.head(20)"
   ]
  },
  {
   "cell_type": "code",
   "execution_count": 11,
   "id": "6eaae857-db13-491b-9fbc-f535032e1bd8",
   "metadata": {},
   "outputs": [
    {
     "data": {
      "text/plain": [
       "<matplotlib.collections.PathCollection at 0x22a47bd2b10>"
      ]
     },
     "execution_count": 11,
     "metadata": {},
     "output_type": "execute_result"
    },
    {
     "data": {
      "image/png": "[encoded data removed]",
      "text/plain": [
       "<Figure size 640x480 with 1 Axes>"
      ]
     },
     "metadata": {},
     "output_type": "display_data"
    }
   ],
   "source": [
    "plt.scatter(df.Hours,df.Score)"
   ]
  },
  {
   "cell_type": "markdown",
   "id": "31c7f8d5-0b49-463d-b68c-77fdd48f05a2",
   "metadata": {},
   "source": [
    "Since the data is showing linear relationship, we will train our model using linear regression.\n",
    "We will use the **Normal Equation** \n",
    "\n",
    "\\[\n",
    "\\theta = (X^T X)^{-1} X^T Y\n",
    "\\]\n",
    "\n",
    "Where:  \n",
    "- **\\( \\theta \\)** = Parameters of the model (intercept and slope).  \n",
    "- **\\( X^T \\)** = Transpose of the feature matrix.  \n",
    "- **\\( (X^T X)^{-1} \\)** = Inverse of the product of the transpose of \\( X \\) and \\( X \\) itself.  \n",
    "- **\\( Y \\)** = Target values (output labels).  \n",
    "\n",
    "\n",
    "### Notation:\n",
    "- **\\( X \\)** = Feature matrix (with a column of ones for the intercept).  \n",
    "- **\\( Y \\)** = Target values (output labels).  \n",
    "- **\\( \\theta \\) = [b, m]**, where:  \n",
    "  - **\\( b \\)** = Intercept (bias term)  \n",
    "  - **\\( m \\)** = Slope (coefficient for \\( X \\))  "
   ]
  },
  {
   "cell_type": "code",
   "execution_count": 13,
   "id": "e8af4b5b-126c-4f00-9121-388f7ece963b",
   "metadata": {},
   "outputs": [
    {
     "name": "stdout",
     "output_type": "stream",
     "text": [
      " X : [1.5 3.  4.5 2.  5.  3.5 6.  7.  2.5 4.  5.5 1.  6.5 3.2 7.5 8.  2.8 4.8\n",
      " 5.2 6.8]\n",
      " Y : [55 65 75 60 80 68 85 90 63 72 78 50 88 66 93 95 62 76 79 87]\n",
      "X_b: [1.  1.5 1.  3.  1.  4.5 1.  2.  1.  5.  1.  3.5 1.  6.  1.  7.  1.  2.5\n",
      " 1.  4.  1.  5.5 1.  1.  1.  6.5 1.  3.2 1.  7.5 1.  8.  1.  2.8 1.  4.8\n",
      " 1.  5.2 1.  6.8]\n",
      "theta: [45.99595378  6.27996594]\n",
      "Intercept (b): 46.00\n",
      "Slope (m): 6.28\n"
     ]
    },
    {
     "data": {
      "image/png": "[encoded data removed]",
      "text/plain": [
       "<Figure size 640x480 with 1 Axes>"
      ]
     },
     "metadata": {},
     "output_type": "display_data"
    },
    {
     "data": {
      "text/plain": [
       "(45.99595378237443, 6.279965939673443)"
      ]
     },
     "execution_count": 13,
     "metadata": {},
     "output_type": "execute_result"
    }
   ],
   "source": [
    "def linear_regression(df):\n",
    "    X = df.Hours.values.reshape(-1, 1)\n",
    "    Y = df.Score.values.reshape(-1, 1)\n",
    "\n",
    "    X_b = np.c_[np.ones((len(X), 1)), X]\n",
    "    theta = np.linalg.inv(X_b.T.dot(X_b)).dot(X_b.T).dot(Y)\n",
    "\n",
    "    b, m = theta.flatten()\n",
    "    print(f\" X : {X.flatten()}\")\n",
    "    print(f\" Y : {Y.flatten()}\")\n",
    "    print(f\"X_b: {X_b.flatten()}\")\n",
    "\n",
    "    print(f\"theta: {theta.flatten()}\")\n",
    "    print(f\"Intercept (b): {b:.2f}\")\n",
    "    print(f\"Slope (m): {m:.2f}\")\n",
    "\n",
    "    plt.scatter(X, Y, color=\"black\", label=\"Data Points\")\n",
    "    plt.plot(X, m * X + b, color=\"red\", label=\"Best Fit Line\")\n",
    "    plt.xlabel(\"Hours of Study\")\n",
    "    plt.ylabel(\"Exam Score\")\n",
    "    plt.legend()\n",
    "    plt.show()\n",
    "\n",
    "    return b, m\n",
    "\n",
    "linear_regression(df)\n"
   ]
  },
  {
   "cell_type": "code",
   "execution_count": null,
   "id": "9f9502e7-017f-41a3-a201-dbbff01e5fe3",
   "metadata": {},
   "outputs": [],
   "source": [
    "    "
   ]
  }
 ],
 "metadata": {
  "kernelspec": {
   "display_name": "Python 3 (ipykernel)",
   "language": "python",
   "name": "python3"
  },
  "language_info": {
   "codemirror_mode": {
    "name": "ipython",
    "version": 3
   },
   "file_extension": ".py",
   "mimetype": "text/x-python",
   "name": "python",
   "nbconvert_exporter": "python",
   "pygments_lexer": "ipython3",
   "version": "3.12.7"
  }
 },
 "nbformat": 4,
 "nbformat_minor": 5
}
