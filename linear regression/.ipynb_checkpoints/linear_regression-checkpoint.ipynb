{
 "cells": [
  {
   "cell_type": "code",
   "execution_count": 1,
   "id": "71377109-2c40-47d4-a14f-31402c7fb48a",
   "metadata": {},
   "outputs": [],
   "source": [
    "import pandas as pd\n",
    "import matplotlib.pyplot as plt"
   ]
  },
  {
   "cell_type": "code",
   "execution_count": 5,
   "id": "a5bbc79d-8545-4309-85bd-b3de1f9d5def",
   "metadata": {},
   "outputs": [
    {
     "data": {
      "text/html": [
       "<div>\n",
       "<style scoped>\n",
       "    .dataframe tbody tr th:only-of-type {\n",
       "        vertical-align: middle;\n",
       "    }\n",
       "\n",
       "    .dataframe tbody tr th {\n",
       "        vertical-align: top;\n",
       "    }\n",
       "\n",
       "    .dataframe thead th {\n",
       "        text-align: right;\n",
       "    }\n",
       "</style>\n",
       "<table border=\"1\" class=\"dataframe\">\n",
       "  <thead>\n",
       "    <tr style=\"text-align: right;\">\n",
       "      <th></th>\n",
       "      <th>Hours</th>\n",
       "      <th>Score</th>\n",
       "    </tr>\n",
       "  </thead>\n",
       "  <tbody>\n",
       "    <tr>\n",
       "      <th>0</th>\n",
       "      <td>1.5</td>\n",
       "      <td>55</td>\n",
       "    </tr>\n",
       "    <tr>\n",
       "      <th>1</th>\n",
       "      <td>3.0</td>\n",
       "      <td>65</td>\n",
       "    </tr>\n",
       "    <tr>\n",
       "      <th>2</th>\n",
       "      <td>4.5</td>\n",
       "      <td>75</td>\n",
       "    </tr>\n",
       "    <tr>\n",
       "      <th>3</th>\n",
       "      <td>2.0</td>\n",
       "      <td>60</td>\n",
       "    </tr>\n",
       "    <tr>\n",
       "      <th>4</th>\n",
       "      <td>5.0</td>\n",
       "      <td>80</td>\n",
       "    </tr>\n",
       "    <tr>\n",
       "      <th>5</th>\n",
       "      <td>3.5</td>\n",
       "      <td>68</td>\n",
       "    </tr>\n",
       "    <tr>\n",
       "      <th>6</th>\n",
       "      <td>6.0</td>\n",
       "      <td>85</td>\n",
       "    </tr>\n",
       "    <tr>\n",
       "      <th>7</th>\n",
       "      <td>7.0</td>\n",
       "      <td>90</td>\n",
       "    </tr>\n",
       "    <tr>\n",
       "      <th>8</th>\n",
       "      <td>2.5</td>\n",
       "      <td>63</td>\n",
       "    </tr>\n",
       "    <tr>\n",
       "      <th>9</th>\n",
       "      <td>4.0</td>\n",
       "      <td>72</td>\n",
       "    </tr>\n",
       "    <tr>\n",
       "      <th>10</th>\n",
       "      <td>5.5</td>\n",
       "      <td>78</td>\n",
       "    </tr>\n",
       "    <tr>\n",
       "      <th>11</th>\n",
       "      <td>1.0</td>\n",
       "      <td>50</td>\n",
       "    </tr>\n",
       "    <tr>\n",
       "      <th>12</th>\n",
       "      <td>6.5</td>\n",
       "      <td>88</td>\n",
       "    </tr>\n",
       "    <tr>\n",
       "      <th>13</th>\n",
       "      <td>3.2</td>\n",
       "      <td>66</td>\n",
       "    </tr>\n",
       "    <tr>\n",
       "      <th>14</th>\n",
       "      <td>7.5</td>\n",
       "      <td>93</td>\n",
       "    </tr>\n",
       "    <tr>\n",
       "      <th>15</th>\n",
       "      <td>8.0</td>\n",
       "      <td>95</td>\n",
       "    </tr>\n",
       "    <tr>\n",
       "      <th>16</th>\n",
       "      <td>2.8</td>\n",
       "      <td>62</td>\n",
       "    </tr>\n",
       "    <tr>\n",
       "      <th>17</th>\n",
       "      <td>4.8</td>\n",
       "      <td>76</td>\n",
       "    </tr>\n",
       "    <tr>\n",
       "      <th>18</th>\n",
       "      <td>5.2</td>\n",
       "      <td>79</td>\n",
       "    </tr>\n",
       "    <tr>\n",
       "      <th>19</th>\n",
       "      <td>6.8</td>\n",
       "      <td>87</td>\n",
       "    </tr>\n",
       "  </tbody>\n",
       "</table>\n",
       "</div>"
      ],
      "text/plain": [
       "    Hours  Score\n",
       "0     1.5     55\n",
       "1     3.0     65\n",
       "2     4.5     75\n",
       "3     2.0     60\n",
       "4     5.0     80\n",
       "5     3.5     68\n",
       "6     6.0     85\n",
       "7     7.0     90\n",
       "8     2.5     63\n",
       "9     4.0     72\n",
       "10    5.5     78\n",
       "11    1.0     50\n",
       "12    6.5     88\n",
       "13    3.2     66\n",
       "14    7.5     93\n",
       "15    8.0     95\n",
       "16    2.8     62\n",
       "17    4.8     76\n",
       "18    5.2     79\n",
       "19    6.8     87"
      ]
     },
     "execution_count": 5,
     "metadata": {},
     "output_type": "execute_result"
    }
   ],
   "source": [
    "df = pd.read_csv(\"df.csv\")\n",
    "df.head(20)"
   ]
  },
  {
   "cell_type": "code",
   "execution_count": 7,
   "id": "6eaae857-db13-491b-9fbc-f535032e1bd8",
   "metadata": {},
   "outputs": [
    {
     "data": {
      "text/plain": [
       "<matplotlib.collections.PathCollection at 0x2071373dee0>"
      ]
     },
     "execution_count": 7,
     "metadata": {},
     "output_type": "execute_result"
    },
    {
     "data": {
      "image/png": "[encoded data removed]",
      "text/plain": [
       "<Figure size 640x480 with 1 Axes>"
      ]
     },
     "metadata": {},
     "output_type": "display_data"
    }
   ],
   "source": [
    "plt.scatter(df.Hours,df.Score)"
   ]
  },
  {
   "cell_type": "markdown",
   "id": "31c7f8d5-0b49-463d-b68c-77fdd48f05a2",
   "metadata": {},
   "source": [
    "### Mean Squared Error Function\n",
    "\n",
    "$$ E = \\frac{1}{n} \\sum_{i=1}^{n} (y_i - (m x_i + b))^2 $$\n",
    "\n",
    "### Partial Derivative w.r.t. \\( m \\)\n",
    "\n",
    "$$ \\frac{\\partial E}{\\partial m} = \\frac{2}{n} \\sum_{i=1}^{n} -x_i (y_i - (m x_i + b)) $$\n",
    "\n",
    "### Partial Derivative w.r.t. \\( b \\)\n",
    "\n",
    "$$ \\frac{\\partial E}{\\partial b} = -\\frac{2}{n} \\sum_{i=1}^{n} (y_i - (m x_i + b)) $$\n"
   ]
  },
  {
   "cell_type": "code",
   "execution_count": 34,
   "id": "e8af4b5b-126c-4f00-9121-388f7ece963b",
   "metadata": {},
   "outputs": [
    {
     "name": "stdout",
     "output_type": "stream",
     "text": [
      "EPOCH 0\n",
      "0 0\n",
      "\n",
      "EPOCH 20\n",
      "9.066776405788168 1.9762016376889366\n",
      "\n",
      "EPOCH 40\n",
      "12.330530953698998 2.8681527188948626\n",
      "\n",
      "EPOCH 60\n",
      "13.48495114189343 3.364849116869864\n",
      "\n",
      "EPOCH 80\n",
      "13.872780730346646 3.716764569242817\n",
      "\n",
      "\n",
      "13.982138373807558 4.014959328468654\n"
     ]
    },
    {
     "data": {
      "text/plain": [
       "[<matplotlib.lines.Line2D at 0x2071891ac30>]"
      ]
     },
     "execution_count": 34,
     "metadata": {},
     "output_type": "execute_result"
    },
    {
     "data": {
      "image/png": "[encoded data removed]",
      "text/plain": [
       "<Figure size 640x480 with 1 Axes>"
      ]
     },
     "metadata": {},
     "output_type": "display_data"
    }
   ],
   "source": [
    "def gradient_descent(cm, cb, df, a):   # cm,cb is current m and b. a is learning rate\n",
    "    dm = 0\n",
    "    db = 0\n",
    "    n = len(df)\n",
    "\n",
    "    # we compute dm, db to subtract it from m, b to reach the best values that represent the target function\n",
    "    # we use a learning rate, and a number of iterations, instead of just subracting, so as to not overshoot the values\n",
    "    \n",
    "    for i in range(n):\n",
    "        x = df.iloc[i].Hours\n",
    "        y = df.iloc[i].Score\n",
    "\n",
    "\n",
    "        dm = -(2/n) *  x * (y - ( cm * x + cb))\n",
    "        db = -(2/n) * (y - ( cm * x + cb))\n",
    "\n",
    "        cm = cm - dm * a\n",
    "        cb = cb - db * a\n",
    "\n",
    "    return cm,cb\n",
    "\n",
    "m = 0\n",
    "b = 0\n",
    "a = 0.001\n",
    "epoch = 100\n",
    "\n",
    "for i in range(epoch):\n",
    "    if i % 20 == 0:\n",
    "        print(\"EPOCH\",i)\n",
    "        print(m,b)\n",
    "        print()\n",
    "    m,b = gradient_descent(m, b, df, a)\n",
    "print()\n",
    "print(m,b)\n",
    "\n",
    "plt.scatter(df.Hours,df.Score, color = 'black')\n",
    "plt.plot(range(1, 8), [m * i + b for i in range(1, 8)], color='red')\n"
   ]
  },
  {
   "cell_type": "code",
   "execution_count": null,
   "id": "9f9502e7-017f-41a3-a201-dbbff01e5fe3",
   "metadata": {},
   "outputs": [],
   "source": []
  }
 ],
 "metadata": {
  "kernelspec": {
   "display_name": "Python 3 (ipykernel)",
   "language": "python",
   "name": "python3"
  },
  "language_info": {
   "codemirror_mode": {
    "name": "ipython",
    "version": 3
   },
   "file_extension": ".py",
   "mimetype": "text/x-python",
   "name": "python",
   "nbconvert_exporter": "python",
   "pygments_lexer": "ipython3",
   "version": "3.12.7"
  }
 },
 "nbformat": 4,
 "nbformat_minor": 5
}
