{
 "cells": [
  {
   "cell_type": "code",
   "execution_count": 3,
   "id": "5d83aa40-33bf-4f70-b9ce-9dfded329b7b",
   "metadata": {},
   "outputs": [],
   "source": [
    "import pandas as pd\n",
    "import numpy as np\n",
    "import matplotlib.pyplot as plt\n",
    "from sklearn.datasets import fetch_california_housing"
   ]
  },
  {
   "cell_type": "code",
   "execution_count": 4,
   "id": "7a007eda-c5e8-4c4b-aa9f-dbf93f413e67",
   "metadata": {},
   "outputs": [],
   "source": [
    "data = fetch_california_housing()\n",
    "\n",
    "df = pd.DataFrame(data.data, columns = data.feature_names)\n",
    "df[\"Target\"] = data.target\n"
   ]
  },
  {
   "cell_type": "code",
   "execution_count": 7,
   "id": "3635d032-2dd3-4b48-aa8f-8563bc209e1e",
   "metadata": {},
   "outputs": [
    {
     "data": {
      "image/png": "[encoded data removed]",
      "text/plain": [
       "<Figure size 640x480 with 1 Axes>"
      ]
     },
     "metadata": {},
     "output_type": "display_data"
    }
   ],
   "source": [
    "plt.hist(df['MedInc'], bins=30, edgecolor='black')\n",
    "plt.xlabel('Median Income')\n",
    "plt.ylabel('Frequency')\n",
    "plt.title('Distribution of Median Income')\n",
    "plt.show()"
   ]
  },
  {
   "cell_type": "markdown",
   "id": "e769b594-2ab2-464c-9fe9-f8f4c3e04751",
   "metadata": {},
   "source": [
    "\n",
    "## NOW WE WILL EXTRACT THE DATA, AND ADD BETA, WHICH ARE THE REGRESSION COEFFICIENTS OR 'WEIGHTS' THAT'LL HELP US UNDERSTAND HOW EACH OF THE VARIABLES AFFECT THE TARGET"
   ]
  },
  {
   "cell_type": "code",
   "execution_count": null,
   "id": "9abcc884-97d0-4988-bb6a-2d9d19355646",
   "metadata": {},
   "outputs": [],
   "source": [
    "x = df.drop(columns=[\"Target\"]).values\n",
    "y = df[\"Target\"].values.reshape(-1,1)\n",
    "\n",
    "x = np.c_[np.ones(x.shape[0]), x]\n"
   ]
  },
  {
   "cell_type": "code",
   "execution_count": null,
   "id": "d86769d3-89c3-4335-9f0c-784765e59e34",
   "metadata": {},
   "outputs": [
    {
     "data": {
      "text/plain": [
       "array([[-3.69419202e+01],\n",
       "       [ 4.36693293e-01],\n",
       "       [ 9.43577803e-03],\n",
       "       [-1.07322041e-01],\n",
       "       [ 6.45065694e-01],\n",
       "       [-3.97638942e-06],\n",
       "       [-3.78654265e-03],\n",
       "       [-4.21314378e-01],\n",
       "       [-4.34513755e-01]])"
      ]
     },
     "execution_count": 79,
     "metadata": {},
     "output_type": "execute_result"
    }
   ],
   "source": [
    "beta = np.linalg.inv(x.T @ x) @ x.T @ y\n",
    "beta"
   ]
  },
  {
   "cell_type": "code",
   "execution_count": null,
   "id": "483873b9-09de-4357-8598-3a7ee21a20bb",
   "metadata": {},
   "outputs": [
    {
     "data": {
      "text/plain": [
       "array([[4.13164983],\n",
       "       [3.97660644],\n",
       "       [3.67657094],\n",
       "       ...,\n",
       "       [0.17125141],\n",
       "       [0.31910524],\n",
       "       [0.51580363]])"
      ]
     },
     "execution_count": 75,
     "metadata": {},
     "output_type": "execute_result"
    }
   ],
   "source": [
    "y_pred = x @ beta\n",
    "y_pred"
   ]
  },
  {
   "cell_type": "code",
   "execution_count": null,
   "id": "5197c4d7-e771-4704-8bd0-b8a1f4ee3ff1",
   "metadata": {},
   "outputs": [
    {
     "data": {
      "text/plain": [
       "0.5243209861846072"
      ]
     },
     "execution_count": 81,
     "metadata": {},
     "output_type": "execute_result"
    }
   ],
   "source": [
    "mse = np.mean((y - y_pred) ** 2)    # MEAN SQUARED ERROR \n",
    "mse"
   ]
  },
  {
   "cell_type": "code",
   "execution_count": null,
   "id": "b205878e-7a35-423d-8be4-7dcda7bba029",
   "metadata": {},
   "outputs": [
    {
     "data": {
      "text/plain": [
       "0.606232685199805"
      ]
     },
     "execution_count": 83,
     "metadata": {},
     "output_type": "execute_result"
    }
   ],
   "source": [
    "ss_total = np.sum((y - np.mean(y)) ** 2)  # Total variance\n",
    "ss_residual = np.sum((y - y_pred) ** 2)  # Unexplained variance\n",
    "r2 = 1 - (ss_residual / ss_total)\n",
    "r2                                         # EXPLAINS HOW WELL MODEL EXPLAINS VARIATIONS IN HOUSE PRICES. "
   ]
  },
  {
   "cell_type": "code",
   "execution_count": null,
   "id": "564f9a6b-6bcb-424c-85be-55a835384dde",
   "metadata": {},
   "outputs": [
    {
     "name": "stdout",
     "output_type": "stream",
     "text": [
      "Predicted House Price: 3241.5988327143327\n"
     ]
    }
   ],
   "source": [
    "# Define new data (same number of features as training data)\n",
    "new_data = np.array([[8.0, 20, 6, 5000, 3, 37, -122, 2.5]])  # Example, adjust last value if needed\n",
    "\n",
    "# Add intercept column (X0 = 1)\n",
    "new_data = np.c_[np.ones(new_data.shape[0]), new_data]\n",
    "\n",
    "# Make prediction\n",
    "predicted_price = new_data @ beta\n",
    "print(f\"Predicted House Price: {predicted_price[0][0]}\")\n"
   ]
  },
  {
   "cell_type": "code",
   "execution_count": null,
   "id": "79e25fd7-0f0f-4fe3-bf9e-fb634c247e64",
   "metadata": {},
   "outputs": [],
   "source": []
  },
  {
   "cell_type": "code",
   "execution_count": null,
   "id": "1d6774f1",
   "metadata": {},
   "outputs": [],
   "source": []
  }
 ],
 "metadata": {
  "kernelspec": {
   "display_name": "Python [conda env:base] *",
   "language": "python",
   "name": "conda-base-py"
  },
  "language_info": {
   "codemirror_mode": {
    "name": "ipython",
    "version": 3
   },
   "file_extension": ".py",
   "mimetype": "text/x-python",
   "name": "python",
   "nbconvert_exporter": "python",
   "pygments_lexer": "ipython3",
   "version": "3.12.7"
  }
 },
 "nbformat": 4,
 "nbformat_minor": 5
}
