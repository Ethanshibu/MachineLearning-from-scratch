{
 "cells": [
  {
   "cell_type": "code",
   "execution_count": 29,
   "id": "f5bf4809-5f14-410d-a178-18a123536932",
   "metadata": {},
   "outputs": [],
   "source": [
    "import numpy as np\n",
    "import pandas as pd\n",
    "import matplotlib.pyplot as plt\n",
    "import seaborn as sns\n",
    "\n",
    "from sklearn.datasets import load_diabetes\n",
    "from sklearn.model_selection import train_test_split\n",
    "from sklearn.linear_model import LinearRegression\n",
    "from sklearn.metrics import mean_squared_error, r2_score, mean_absolute_error\n",
    "from sklearn.preprocessing import StandardScaler "
   ]
  },
  {
   "cell_type": "code",
   "execution_count": 33,
   "id": "7cceb6aa-396a-4907-b9ca-49f312e162fa",
   "metadata": {},
   "outputs": [
    {
     "name": "stdout",
     "output_type": "stream",
     "text": [
      "DataFrame Head:\n",
      "        age       sex       bmi        bp        s1        s2        s3  \\\n",
      "0  0.038076  0.050680  0.061696  0.021872 -0.044223 -0.034821 -0.043401   \n",
      "1 -0.001882 -0.044642 -0.051474 -0.026328 -0.008449 -0.019163  0.074412   \n",
      "2  0.085299  0.050680  0.044451 -0.005670 -0.045599 -0.034194 -0.032356   \n",
      "3 -0.089063 -0.044642 -0.011595 -0.036656  0.012191  0.024991 -0.036038   \n",
      "4  0.005383 -0.044642 -0.036385  0.021872  0.003935  0.015596  0.008142   \n",
      "\n",
      "         s4        s5        s6  target  \n",
      "0 -0.002592  0.019907 -0.017646   151.0  \n",
      "1 -0.039493 -0.068332 -0.092204    75.0  \n",
      "2 -0.002592  0.002861 -0.025930   141.0  \n",
      "3  0.034309  0.022688 -0.009362   206.0  \n",
      "4 -0.002592 -0.031988 -0.046641   135.0  \n",
      "\n",
      "Dataset Description:\n",
      ".. _diabetes_dataset:\n",
      "\n",
      "Diabetes dataset\n",
      "----------------\n",
      "\n",
      "Ten baseline variables, age, sex, body mass index, average blood\n",
      "pressure, and six blood serum measurements were obtained for each of n =\n",
      "442 diabetes patients, as well as the response of interest, a\n",
      "quantitative measure of disease progression one year after baseline.\n",
      "\n",
      "**Data Set Characteristics:**\n",
      "\n",
      ":Number of Instances: 442\n",
      "\n",
      ":Number of Attributes: First 10 columns are numeric predictive values\n",
      "\n",
      ":Target: Column 11 is a quantitative measure of disease progression one year after baseline\n",
      "\n",
      ":Attribute Information:\n",
      "    - age     age in years\n",
      "    - sex\n",
      "    - bmi     body mass index\n",
      "    - bp      average blood pressure\n",
      "    - s1      tc, total serum cholesterol\n",
      "    - s2      ldl, low-density lipoproteins\n",
      "    - s3      hdl, high-density lipoproteins\n",
      "    - s4      tch, total cholesterol / HDL\n",
      "    - s5      ltg, possibly log of serum triglycerides level\n",
      "    - s6      glu, blood sugar level\n",
      "\n",
      "Note: Each of these 10 feature variables have been mean centered and scaled by the standard deviation times the square root of `n_samples` (i.e. the sum of squares of each column totals 1).\n",
      "\n",
      "Source URL:\n",
      "https://www4.stat.ncsu.edu/~boos/var.select/diabetes.html\n",
      "\n",
      "For more information see:\n",
      "Bradley Efron, Trevor Hastie, Iain Johnstone and Robert Tibshirani (2004) \"Least Angle Regression,\" Annals of Statistics (with discussion), 407-499.\n",
      "(https://web.stanford.edu/~hastie/Papers/LARS/LeastAngle_2002.pdf)\n",
      "\n",
      "\n",
      "Features shape: (442, 10)\n",
      "Target shape: (442,)\n"
     ]
    }
   ],
   "source": [
    "diabetes = load_diabetes(as_frame=True)\n",
    "df = diabetes.frame # Get the DataFrame\n",
    "\n",
    "print(\"DataFrame Head:\")\n",
    "print(df.head())\n",
    "\n",
    "print(\"\\nDataset Description:\")\n",
    "print(diabetes.DESCR)\n",
    "\n",
    "X = df.drop(columns=[\"target\"])\n",
    "y = df[\"target\"]\n",
    "\n",
    "print(f\"\\nFeatures shape: {X.shape}\")\n",
    "print(f\"Target shape: {y.shape}\")"
   ]
  },
  {
   "cell_type": "code",
   "execution_count": 35,
   "id": "17b794b4-a0db-4aeb-ad9e-0cd2275bd2dc",
   "metadata": {},
   "outputs": [
    {
     "name": "stdout",
     "output_type": "stream",
     "text": [
      "Training features shape: (353, 10)\n",
      "Testing features shape: (89, 10)\n",
      "\n",
      "Example of scaled features:\n",
      "        age       sex       bmi        bp        s1        s2        s3  \\\n",
      "0  1.498365  1.061370  0.219902  1.138874  0.728473  1.055893 -0.824451   \n",
      "1 -0.228858  1.061370 -0.419366 -0.710591 -0.424929  0.272425 -1.529791   \n",
      "2  0.085182 -0.942179  1.018987  1.992473 -0.309589 -0.326699 -0.119111   \n",
      "3 -0.621409 -0.942179 -0.784662 -0.639458 -1.174640 -1.215508  0.664600   \n",
      "4 -0.542899 -0.942179 -1.423930 -1.706457 -0.799784 -1.110167  1.291569   \n",
      "\n",
      "         s4        s5        s6  \n",
      "0  0.711038  0.547482 -0.061449  \n",
      "1  1.484286 -0.019757  0.367236  \n",
      "2 -0.062210  0.331237 -0.318660  \n",
      "3 -0.835458 -1.069682 -2.719299  \n",
      "4 -1.608706 -0.802859 -0.918820  \n"
     ]
    }
   ],
   "source": [
    "X_train, X_test, y_train, y_test = train_test_split(X, y, test_size=0.2, random_state=42)\n",
    "\n",
    "print(f\"Training features shape: {X_train.shape}\")\n",
    "print(f\"Testing features shape: {X_test.shape}\")\n",
    "\n",
    "scaler = StandardScaler()\n",
    "X_train_scaled = scaler.fit_transform(X_train)\n",
    "X_test_scaled = scaler.transform(X_test)\n",
    "\n",
    "X_train_scaled_df = pd.DataFrame(X_train_scaled, columns=X.columns)\n",
    "X_test_scaled_df = pd.DataFrame(X_test_scaled, columns=X.columns)\n",
    "\n",
    "print(\"\\nExample of scaled features:\")\n",
    "print(X_train_scaled_df.head())"
   ]
  },
  {
   "cell_type": "code",
   "execution_count": 37,
   "id": "fcaa95dd-12f5-4495-ad32-9db7027d5cc4",
   "metadata": {},
   "outputs": [
    {
     "name": "stdout",
     "output_type": "stream",
     "text": [
      "\n",
      "Model Coefficients: [  1.75375799 -11.51180908  25.60712144  16.82887167 -44.44885564\n",
      "  24.64095356   7.67697768  13.1387839   35.16119521   2.35136365]\n",
      "Model Intercept: 153.73654390934846\n",
      "\n",
      "Feature Coefficients:\n",
      "  Feature  Coefficient\n",
      "8      s5    35.161195\n",
      "2     bmi    25.607121\n",
      "5      s2    24.640954\n",
      "3      bp    16.828872\n",
      "7      s4    13.138784\n",
      "6      s3     7.676978\n",
      "9      s6     2.351364\n",
      "0     age     1.753758\n",
      "1     sex   -11.511809\n",
      "4      s1   -44.448856\n"
     ]
    }
   ],
   "source": [
    "model = LinearRegression()\n",
    "\n",
    "model.fit(X_train_scaled, y_train)\n",
    "\n",
    "print(f\"\\nModel Coefficients: {model.coef_}\")\n",
    "print(f\"Model Intercept: {model.intercept_}\")\n",
    "\n",
    "coef_df = pd.DataFrame({'Feature': X.columns, 'Coefficient': model.coef_})\n",
    "print(\"\\nFeature Coefficients:\")\n",
    "print(coef_df.sort_values(by='Coefficient', ascending=False))"
   ]
  },
  {
   "cell_type": "code",
   "execution_count": 39,
   "id": "778a7d30-b34a-4b00-a71b-ae992d5a7df4",
   "metadata": {},
   "outputs": [
    {
     "name": "stdout",
     "output_type": "stream",
     "text": [
      "Mean Squared Error (MSE): 2900.19\n",
      "Root Mean Squared Error (RMSE): 53.85\n",
      "Mean Absolute Error (MAE): 42.79\n",
      "R-squared (R2): 0.45\n"
     ]
    }
   ],
   "source": [
    "ypred = model.predict(X_test_scaled)\n",
    "\n",
    "residuals = y_test - ypred\n",
    "\n",
    "mse = mean_squared_error(y_test, ypred)\n",
    "rmse = np.sqrt(mse)\n",
    "mae = mean_absolute_error(y_test, ypred)\n",
    "r2 = r2_score(y_test, ypred)\n",
    "\n",
    "print(f\"Mean Squared Error (MSE): {mse:.2f}\")\n",
    "print(f\"Root Mean Squared Error (RMSE): {rmse:.2f}\")\n",
    "print(f\"Mean Absolute Error (MAE): {mae:.2f}\")\n",
    "print(f\"R-squared (R2): {r2:.2f}\") # Expect a decent R2 for this dataset, usually around 0.4 - 0.5"
   ]
  },
  {
   "cell_type": "code",
   "execution_count": null,
   "id": "6cd66551-8092-45d3-afaf-5f7cb1674ef1",
   "metadata": {},
   "outputs": [],
   "source": []
  },
  {
   "cell_type": "code",
   "execution_count": null,
   "id": "97809e52-d929-4bb7-b319-62c2808ae245",
   "metadata": {},
   "outputs": [],
   "source": []
  },
  {
   "cell_type": "code",
   "execution_count": null,
   "id": "26f45e43-32a5-475b-8b43-48a43a60eb44",
   "metadata": {},
   "outputs": [],
   "source": []
  },
  {
   "cell_type": "code",
   "execution_count": null,
   "id": "d7657128-48e6-455f-be50-bdfe0cd3bbe8",
   "metadata": {},
   "outputs": [],
   "source": []
  },
  {
   "cell_type": "code",
   "execution_count": null,
   "id": "7e888958-908c-47a7-9d49-39b29f166c93",
   "metadata": {},
   "outputs": [],
   "source": []
  },
  {
   "cell_type": "code",
   "execution_count": null,
   "id": "578ce386-c8fc-4838-b01a-9ab62dd9f4fe",
   "metadata": {},
   "outputs": [],
   "source": []
  },
  {
   "cell_type": "code",
   "execution_count": null,
   "id": "bd7a528d-98ef-47dd-b327-fdbf9923314c",
   "metadata": {},
   "outputs": [],
   "source": []
  }
 ],
 "metadata": {
  "kernelspec": {
   "display_name": "Python [conda env:base] *",
   "language": "python",
   "name": "conda-base-py"
  },
  "language_info": {
   "codemirror_mode": {
    "name": "ipython",
    "version": 3
   },
   "file_extension": ".py",
   "mimetype": "text/x-python",
   "name": "python",
   "nbconvert_exporter": "python",
   "pygments_lexer": "ipython3",
   "version": "3.12.7"
  }
 },
 "nbformat": 4,
 "nbformat_minor": 5
}
