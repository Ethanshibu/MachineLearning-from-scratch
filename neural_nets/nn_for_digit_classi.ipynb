{
 "cells": [
  {
   "cell_type": "code",
   "execution_count": null,
   "id": "566b6790-8440-44ab-a8c6-837e5d9b00a4",
   "metadata": {},
   "outputs": [],
   "source": []
  }
 ],
 "metadata": {
  "kernelspec": {
   "display_name": "",
   "name": ""
  },
  "language_info": {
   "name": ""
  }
 },
 "nbformat": 4,
 "nbformat_minor": 5
}
